{
  "nbformat": 4,
  "nbformat_minor": 0,
  "metadata": {
    "colab": {
      "provenance": [],
      "toc_visible": true,
      "authorship_tag": "ABX9TyMoxHIi+G7b3DQdiBLTvNn/",
      "include_colab_link": true
    },
    "kernelspec": {
      "name": "python3",
      "display_name": "Python 3"
    },
    "language_info": {
      "name": "python"
    }
  },
  "cells": [
    {
      "cell_type": "markdown",
      "metadata": {
        "id": "view-in-github",
        "colab_type": "text"
      },
      "source": [
        "<a href=\"https://colab.research.google.com/github/Junie254/LinearRegression2/blob/main/Untitled2.ipynb\" target=\"_parent\"><img src=\"https://colab.research.google.com/assets/colab-badge.svg\" alt=\"Open In Colab\"/></a>"
      ]
    },
    {
      "cell_type": "code",
      "execution_count": 1,
      "metadata": {
        "colab": {
          "base_uri": "https://localhost:8080/"
        },
        "id": "d22MD7BxKUZi",
        "outputId": "32e246a1-84d5-41fc-ce7f-5674d54b9861"
      },
      "outputs": [
        {
          "output_type": "stream",
          "name": "stdout",
          "text": [
            "Sample CSV file 'road_accidents.csv' created.\n",
            "Mean Squared Error: 0.5980903097246065\n",
            "Model saved as 'road_accident_severity_model.pkl'\n",
            "Predicted Accident Severity: 1.750908857619434\n"
          ]
        }
      ],
      "source": [
        "# Import necessary libraries\n",
        "import pandas as pd\n",
        "from sklearn.model_selection import train_test_split\n",
        "from sklearn.linear_model import LinearRegression\n",
        "from sklearn.metrics import mean_squared_error\n",
        "import joblib\n",
        "\n",
        "# Step 1: Create sample data and save to CSV\n",
        "data = {\n",
        "    'speed': [60, 80, 55, 90, 70],\n",
        "    'weather_condition': [1, 2, 1, 2, 1],\n",
        "    'road_condition': [0, 1, 0, 2, 1],\n",
        "    'driver_age': [30, 40, 50, 28, 35],\n",
        "    'time_of_day': [1, 0, 1, 0, 1],\n",
        "    'vehicles_involved': [2, 3, 1, 4, 2],\n",
        "    'traffic_density': [3, 4, 2, 5, 3],\n",
        "    'severity': [2, 3, 1, 3, 2]\n",
        "}\n",
        "\n",
        "# Convert the dictionary to a DataFrame\n",
        "df = pd.DataFrame(data)\n",
        "\n",
        "# Save the DataFrame to a CSV file\n",
        "df.to_csv('road_accidents.csv', index=False)\n",
        "print(\"Sample CSV file 'road_accidents.csv' created.\")\n",
        "\n",
        "# Step 2: Load the dataset\n",
        "data = pd.read_csv('road_accidents.csv')\n",
        "\n",
        "# Define the independent variables (features) and the dependent variable (target)\n",
        "X = data[['speed', 'weather_condition', 'road_condition', 'driver_age', 'time_of_day', 'vehicles_involved', 'traffic_density']]\n",
        "y = data['severity']\n",
        "\n",
        "# Split the data into training and testing sets\n",
        "X_train, X_test, y_train, y_test = train_test_split(X, y, test_size=0.2, random_state=42)\n",
        "\n",
        "# Step 3: Create and train the linear regression model\n",
        "model = LinearRegression()\n",
        "model.fit(X_train, y_train)\n",
        "\n",
        "# Step 4: Make predictions on the test set and evaluate the model\n",
        "y_pred = model.predict(X_test)\n",
        "mse = mean_squared_error(y_test, y_pred)\n",
        "print(f\"Mean Squared Error: {mse}\")\n",
        "\n",
        "# Step 5: Save the model for future use\n",
        "joblib.dump(model, 'road_accident_severity_model.pkl')\n",
        "print(\"Model saved as 'road_accident_severity_model.pkl'\")\n",
        "\n",
        "# Step 6: Example prediction using hypothetical data\n",
        "input_data = pd.DataFrame([[70, 1, 0, 45, 1, 3, 4]],\n",
        "                          columns=['speed', 'weather_condition', 'road_condition', 'driver_age', 'time_of_day', 'vehicles_involved', 'traffic_density'])\n",
        "predicted_severity = model.predict(input_data)\n",
        "print(\"Predicted Accident Severity:\", predicted_severity[0])\n",
        "\n"
      ]
    }
  ]
}